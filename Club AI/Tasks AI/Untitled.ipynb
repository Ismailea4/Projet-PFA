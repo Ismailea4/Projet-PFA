{
 "cells": [
  {
   "cell_type": "code",
   "execution_count": 11,
   "id": "8afd9fcf",
   "metadata": {},
   "outputs": [],
   "source": [
    "import pandas as pd\n",
    "import numpy as np\n",
    "import warnings\n",
    "\n",
    "from sklearn.exceptions import ConvergenceWarning\n",
    "from sklearn.model_selection import train_test_split\n",
    "from sklearn.linear_model import LogisticRegression\n",
    "\n",
    "import matplotlib.pylab as plt\n",
    "import seaborn as sns"
   ]
  },
  {
   "cell_type": "code",
   "execution_count": 2,
   "id": "ce183c0f",
   "metadata": {},
   "outputs": [],
   "source": [
    "df=pd.read_csv(\"airline_satisfaction.csv\")"
   ]
  },
  {
   "cell_type": "code",
   "execution_count": 3,
   "id": "552907be",
   "metadata": {},
   "outputs": [],
   "source": [
    "df1=df.drop(['Customer Type','Flight Distance','Gate location'],axis=1)"
   ]
  },
  {
   "cell_type": "code",
   "execution_count": 4,
   "id": "b25dbaef",
   "metadata": {},
   "outputs": [],
   "source": [
    "Ar=df1['Arrival Delay in Minutes']\n",
    "q1=Ar.quantile(0.25)\n",
    "q3=Ar.quantile(0.75)\n",
    "iqr=q3-q1\n",
    "high=q3+1.5*iqr\n",
    "low=q1-1.5*iqr\n",
    "df1=df1[(Ar>=low) & (Ar<=high)]"
   ]
  },
  {
   "cell_type": "code",
   "execution_count": 5,
   "id": "a426c447",
   "metadata": {},
   "outputs": [],
   "source": [
    "De=df1['Departure Delay in Minutes']\n",
    "q1=De.quantile(0.25)\n",
    "q3=De.quantile(0.75)\n",
    "iqr=q3-q1\n",
    "high=q3+1.5*iqr\n",
    "low=q1-1.5*iqr\n",
    "df1=df1[(De>=low) & (De<=high)]"
   ]
  },
  {
   "cell_type": "code",
   "execution_count": 6,
   "id": "57f6f37a",
   "metadata": {},
   "outputs": [],
   "source": [
    "df2=df1.drop(['Type of Travel'],axis=1)"
   ]
  },
  {
   "cell_type": "code",
   "execution_count": 7,
   "id": "2986b082",
   "metadata": {},
   "outputs": [],
   "source": [
    "df2=pd.get_dummies(df2,columns=['satisfaction'],dtype=int)\n",
    "df2=df2.drop(['satisfaction_dissatisfied'],axis=1)\n",
    "df2.rename(columns={'satisfaction_satisfied':'satisfaction'},inplace=True)\n",
    "df2=pd.get_dummies(df2,columns=['Class'],dtype=int)"
   ]
  },
  {
   "cell_type": "code",
   "execution_count": 8,
   "id": "b61b290d",
   "metadata": {},
   "outputs": [],
   "source": [
    "LogR=LogisticRegression(max_iter=50)"
   ]
  },
  {
   "cell_type": "code",
   "execution_count": null,
   "id": "1485e30c",
   "metadata": {},
   "outputs": [],
   "source": [
    "X=df2.drop(['satisfaction'],axis=1)\n",
    "y=df2['satisfaction']\n",
    "\n",
    "warnings.filterwarnings(\"ignore\", category=ConvergenceWarning)\n",
    "\n",
    "# Assuming LogR is an instance of LogisticRegression\n",
    "\n",
    "score = []\n",
    "\n",
    "for i in range(3000,4000):\n",
    "    X_train, X_test, y_train, y_test = train_test_split(X, y, test_size=0.1, random_state=i)\n",
    "    \n",
    "    # Ignore ConvergenceWarning for this specific call\n",
    "    with warnings.catch_warnings():\n",
    "        warnings.simplefilter(\"ignore\", category=ConvergenceWarning)\n",
    "        LogR.fit(X_train, y_train)  # Fit the model\n",
    "    \n",
    "    accuracy = LogR.score(X_test, y_test)  # Get the accuracy on the test set\n",
    "    if accuracy > 0.82:\n",
    "        score.append((accuracy, i))\n",
    "\n",
    "print(score)"
   ]
  },
  {
   "cell_type": "code",
   "execution_count": null,
   "id": "9f6b2a81",
   "metadata": {},
   "outputs": [],
   "source": []
  }
 ],
 "metadata": {
  "kernelspec": {
   "display_name": "Python 3 (ipykernel)",
   "language": "python",
   "name": "python3"
  },
  "language_info": {
   "codemirror_mode": {
    "name": "ipython",
    "version": 3
   },
   "file_extension": ".py",
   "mimetype": "text/x-python",
   "name": "python",
   "nbconvert_exporter": "python",
   "pygments_lexer": "ipython3",
   "version": "3.9.13"
  }
 },
 "nbformat": 4,
 "nbformat_minor": 5
}
