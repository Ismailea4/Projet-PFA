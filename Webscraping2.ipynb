{
 "cells": [
  {
   "cell_type": "code",
   "execution_count": 3,
   "id": "4b44c6fd",
   "metadata": {},
   "outputs": [],
   "source": [
    "from selenium import webdriver\n",
    "from selenium.webdriver.common.by import By\n",
    "from selenium.webdriver.support.ui import WebDriverWait\n",
    "from selenium.webdriver.support import expected_conditions as EC\n",
    "import time\n",
    "from bs4 import BeautifulSoup"
   ]
  },
  {
   "cell_type": "code",
   "execution_count": 6,
   "id": "a4489827",
   "metadata": {},
   "outputs": [],
   "source": [
    "driver = webdriver.Chrome()\n",
    "url=\"https://www.scrapethissite.com/pages/ajax-javascript/\"\n",
    "driver.get(url)\n",
    "wait = WebDriverWait(driver,10)\n",
    "year_elements = wait.until(EC.visibility_of_all_elements_located((By.CLASS_NAME, \"year-link\")))\n",
    "all_year_info=[]\n",
    "for year_element in year_elements:\n",
    "    year = year_element.text\n",
    "    year_element.click()\n",
    "    time.sleep(5)\n",
    "    wait.until(EC.presence_of_element_located((By.CLASS_NAME, 'film')))\n",
    "    if \"active\" in year_element.get_attribute(\"class\"):\n",
    "        page_content = driver.page_source\n",
    "        soup = BeautifulSoup(page_content, 'html.parser')\n",
    "        tr = soup.find_all('tr', class_='film')\n",
    "        year_data = []\n",
    "        for row in tr:\n",
    "            row_data = [cell.text.strip() for cell in row.find_all('td')]\n",
    "            year_data.append(row_data)\n",
    "        \n",
    "        all_year_info.append((year, year_data))"
   ]
  },
  {
   "cell_type": "code",
   "execution_count": null,
   "id": "301c2f21",
   "metadata": {},
   "outputs": [],
   "source": []
  }
 ],
 "metadata": {
  "kernelspec": {
   "display_name": "Python 3 (ipykernel)",
   "language": "python",
   "name": "python3"
  },
  "language_info": {
   "codemirror_mode": {
    "name": "ipython",
    "version": 3
   },
   "file_extension": ".py",
   "mimetype": "text/x-python",
   "name": "python",
   "nbconvert_exporter": "python",
   "pygments_lexer": "ipython3",
   "version": "3.9.13"
  }
 },
 "nbformat": 4,
 "nbformat_minor": 5
}
