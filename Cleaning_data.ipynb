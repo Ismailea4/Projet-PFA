{
 "cells": [
  {
   "cell_type": "code",
   "execution_count": 98,
   "id": "4f0be293",
   "metadata": {},
   "outputs": [],
   "source": [
    "import pandas as pd\n",
    "from nltk.tokenize import regexp_tokenize, word_tokenize, TweetTokenizer\n",
    "from collections import Counter\n",
    "from datetime import datetime\n",
    "import numpy as np\n",
    "\n",
    "from sklearn.feature_extraction.text import CountVectorizer"
   ]
  },
  {
   "cell_type": "code",
   "execution_count": 99,
   "id": "9341545f",
   "metadata": {},
   "outputs": [],
   "source": [
    "df = pd.read_csv(\"Palestine-Israel_tweet5.csv\")"
   ]
  },
  {
   "cell_type": "code",
   "execution_count": 100,
   "id": "c34dd774",
   "metadata": {},
   "outputs": [],
   "source": [
    "df2 = df.drop(['Unnamed: 0','username','link'], axis=1)"
   ]
  },
  {
   "cell_type": "code",
   "execution_count": 101,
   "id": "5e77c79a",
   "metadata": {},
   "outputs": [
    {
     "name": "stdout",
     "output_type": "stream",
     "text": [
      "<class 'pandas.core.frame.DataFrame'>\n",
      "RangeIndex: 4775 entries, 0 to 4774\n",
      "Data columns (total 7 columns):\n",
      " #   Column      Non-Null Count  Dtype \n",
      "---  ------      --------------  ----- \n",
      " 0   profile_id  4775 non-null   int64 \n",
      " 1   date        4775 non-null   object\n",
      " 2   text        4775 non-null   object\n",
      " 3   comments    4775 non-null   int64 \n",
      " 4   likes       4775 non-null   int64 \n",
      " 5   quotes      4775 non-null   int64 \n",
      " 6   retweets    4775 non-null   int64 \n",
      "dtypes: int64(5), object(2)\n",
      "memory usage: 261.3+ KB\n"
     ]
    }
   ],
   "source": [
    "df2.info()"
   ]
  },
  {
   "cell_type": "code",
   "execution_count": 102,
   "id": "098048f1",
   "metadata": {},
   "outputs": [],
   "source": [
    "# Define the format of the input string\n",
    "date_format = '%b %d, %Y · %I:%M %p %Z'\n",
    "\n",
    "# Convert string to datetime object\n",
    "str_to_date = lambda u : datetime.strptime(u, date_format)\n",
    "\n",
    "df2['date'] = df2['date'].apply(str_to_date)"
   ]
  },
  {
   "cell_type": "code",
   "execution_count": 103,
   "id": "e5c14252",
   "metadata": {},
   "outputs": [
    {
     "data": {
      "text/html": [
       "<div>\n",
       "<style scoped>\n",
       "    .dataframe tbody tr th:only-of-type {\n",
       "        vertical-align: middle;\n",
       "    }\n",
       "\n",
       "    .dataframe tbody tr th {\n",
       "        vertical-align: top;\n",
       "    }\n",
       "\n",
       "    .dataframe thead th {\n",
       "        text-align: right;\n",
       "    }\n",
       "</style>\n",
       "<table border=\"1\" class=\"dataframe\">\n",
       "  <thead>\n",
       "    <tr style=\"text-align: right;\">\n",
       "      <th></th>\n",
       "      <th>profile_id</th>\n",
       "      <th>date</th>\n",
       "      <th>text</th>\n",
       "      <th>comments</th>\n",
       "      <th>likes</th>\n",
       "      <th>quotes</th>\n",
       "      <th>retweets</th>\n",
       "    </tr>\n",
       "  </thead>\n",
       "  <tbody>\n",
       "    <tr>\n",
       "      <th>0</th>\n",
       "      <td>1712776952593924096</td>\n",
       "      <td>2023-10-16 04:35:00</td>\n",
       "      <td>The Difference❗ Between War Vs Genocide❗  #Isr...</td>\n",
       "      <td>3</td>\n",
       "      <td>5</td>\n",
       "      <td>0</td>\n",
       "      <td>1</td>\n",
       "    </tr>\n",
       "    <tr>\n",
       "      <th>1</th>\n",
       "      <td>1712776952593924096</td>\n",
       "      <td>2023-10-16 04:31:00</td>\n",
       "      <td>🇵🇸🇮🇱🚨 Brave Palestinian lady documenting the o...</td>\n",
       "      <td>0</td>\n",
       "      <td>0</td>\n",
       "      <td>0</td>\n",
       "      <td>0</td>\n",
       "    </tr>\n",
       "    <tr>\n",
       "      <th>2</th>\n",
       "      <td>1712776952593924096</td>\n",
       "      <td>2023-10-16 04:31:00</td>\n",
       "      <td>A child from Palestine says what happened to h...</td>\n",
       "      <td>1</td>\n",
       "      <td>1</td>\n",
       "      <td>0</td>\n",
       "      <td>0</td>\n",
       "    </tr>\n",
       "    <tr>\n",
       "      <th>3</th>\n",
       "      <td>1712776952593924096</td>\n",
       "      <td>2023-10-16 04:30:00</td>\n",
       "      <td>No, this devastation is not caused by the eart...</td>\n",
       "      <td>0</td>\n",
       "      <td>2</td>\n",
       "      <td>0</td>\n",
       "      <td>0</td>\n",
       "    </tr>\n",
       "    <tr>\n",
       "      <th>4</th>\n",
       "      <td>1712776952593924096</td>\n",
       "      <td>2023-10-16 04:30:00</td>\n",
       "      <td>BREAKING! Israeli warplanes have been continuo...</td>\n",
       "      <td>0</td>\n",
       "      <td>0</td>\n",
       "      <td>0</td>\n",
       "      <td>1</td>\n",
       "    </tr>\n",
       "    <tr>\n",
       "      <th>...</th>\n",
       "      <td>...</td>\n",
       "      <td>...</td>\n",
       "      <td>...</td>\n",
       "      <td>...</td>\n",
       "      <td>...</td>\n",
       "      <td>...</td>\n",
       "      <td>...</td>\n",
       "    </tr>\n",
       "    <tr>\n",
       "      <th>4770</th>\n",
       "      <td>1752382749153927168</td>\n",
       "      <td>2023-10-07 14:33:00</td>\n",
       "      <td>Such language from the U.K. government and oth...</td>\n",
       "      <td>608</td>\n",
       "      <td>11402</td>\n",
       "      <td>133</td>\n",
       "      <td>3209</td>\n",
       "    </tr>\n",
       "    <tr>\n",
       "      <th>4771</th>\n",
       "      <td>1714526492258975744</td>\n",
       "      <td>2023-10-07 13:53:00</td>\n",
       "      <td>President Mahmoud Abbas chairs an emergency le...</td>\n",
       "      <td>2</td>\n",
       "      <td>14</td>\n",
       "      <td>0</td>\n",
       "      <td>3</td>\n",
       "    </tr>\n",
       "    <tr>\n",
       "      <th>4772</th>\n",
       "      <td>1714526492258975744</td>\n",
       "      <td>2023-10-07 12:49:00</td>\n",
       "      <td>Israeli warplanes attack #Gaza, according to l...</td>\n",
       "      <td>3</td>\n",
       "      <td>19</td>\n",
       "      <td>0</td>\n",
       "      <td>5</td>\n",
       "    </tr>\n",
       "    <tr>\n",
       "      <th>4773</th>\n",
       "      <td>1714526492258975744</td>\n",
       "      <td>2023-10-07 12:24:00</td>\n",
       "      <td>Peace requires justice, freedom and independen...</td>\n",
       "      <td>0</td>\n",
       "      <td>5</td>\n",
       "      <td>0</td>\n",
       "      <td>0</td>\n",
       "    </tr>\n",
       "    <tr>\n",
       "      <th>4774</th>\n",
       "      <td>1714526492258975744</td>\n",
       "      <td>2023-10-07 12:24:00</td>\n",
       "      <td>The continuation of the injustice and oppressi...</td>\n",
       "      <td>1</td>\n",
       "      <td>4</td>\n",
       "      <td>0</td>\n",
       "      <td>0</td>\n",
       "    </tr>\n",
       "  </tbody>\n",
       "</table>\n",
       "<p>4775 rows × 7 columns</p>\n",
       "</div>"
      ],
      "text/plain": [
       "               profile_id                date  \\\n",
       "0     1712776952593924096 2023-10-16 04:35:00   \n",
       "1     1712776952593924096 2023-10-16 04:31:00   \n",
       "2     1712776952593924096 2023-10-16 04:31:00   \n",
       "3     1712776952593924096 2023-10-16 04:30:00   \n",
       "4     1712776952593924096 2023-10-16 04:30:00   \n",
       "...                   ...                 ...   \n",
       "4770  1752382749153927168 2023-10-07 14:33:00   \n",
       "4771  1714526492258975744 2023-10-07 13:53:00   \n",
       "4772  1714526492258975744 2023-10-07 12:49:00   \n",
       "4773  1714526492258975744 2023-10-07 12:24:00   \n",
       "4774  1714526492258975744 2023-10-07 12:24:00   \n",
       "\n",
       "                                                   text  comments  likes  \\\n",
       "0     The Difference❗ Between War Vs Genocide❗  #Isr...         3      5   \n",
       "1     🇵🇸🇮🇱🚨 Brave Palestinian lady documenting the o...         0      0   \n",
       "2     A child from Palestine says what happened to h...         1      1   \n",
       "3     No, this devastation is not caused by the eart...         0      2   \n",
       "4     BREAKING! Israeli warplanes have been continuo...         0      0   \n",
       "...                                                 ...       ...    ...   \n",
       "4770  Such language from the U.K. government and oth...       608  11402   \n",
       "4771  President Mahmoud Abbas chairs an emergency le...         2     14   \n",
       "4772  Israeli warplanes attack #Gaza, according to l...         3     19   \n",
       "4773  Peace requires justice, freedom and independen...         0      5   \n",
       "4774  The continuation of the injustice and oppressi...         1      4   \n",
       "\n",
       "      quotes  retweets  \n",
       "0          0         1  \n",
       "1          0         0  \n",
       "2          0         0  \n",
       "3          0         0  \n",
       "4          0         1  \n",
       "...      ...       ...  \n",
       "4770     133      3209  \n",
       "4771       0         3  \n",
       "4772       0         5  \n",
       "4773       0         0  \n",
       "4774       0         0  \n",
       "\n",
       "[4775 rows x 7 columns]"
      ]
     },
     "execution_count": 103,
     "metadata": {},
     "output_type": "execute_result"
    }
   ],
   "source": [
    "df2"
   ]
  },
  {
   "cell_type": "code",
   "execution_count": 104,
   "id": "0ccea3c2",
   "metadata": {},
   "outputs": [],
   "source": [
    "df3 = df2.drop(['date','text'],axis=1)\n",
    "df3['year']=df2['date'].dt.year\n",
    "df3['month']=df2['date'].dt.month\n",
    "df3['day']=df2['date'].dt.day"
   ]
  },
  {
   "cell_type": "code",
   "execution_count": 105,
   "id": "9bc1d298",
   "metadata": {},
   "outputs": [
    {
     "data": {
      "text/html": [
       "<div>\n",
       "<style scoped>\n",
       "    .dataframe tbody tr th:only-of-type {\n",
       "        vertical-align: middle;\n",
       "    }\n",
       "\n",
       "    .dataframe tbody tr th {\n",
       "        vertical-align: top;\n",
       "    }\n",
       "\n",
       "    .dataframe thead th {\n",
       "        text-align: right;\n",
       "    }\n",
       "</style>\n",
       "<table border=\"1\" class=\"dataframe\">\n",
       "  <thead>\n",
       "    <tr style=\"text-align: right;\">\n",
       "      <th></th>\n",
       "      <th>profile_id</th>\n",
       "      <th>comments</th>\n",
       "      <th>likes</th>\n",
       "      <th>quotes</th>\n",
       "      <th>retweets</th>\n",
       "      <th>year</th>\n",
       "      <th>month</th>\n",
       "      <th>day</th>\n",
       "    </tr>\n",
       "  </thead>\n",
       "  <tbody>\n",
       "    <tr>\n",
       "      <th>0</th>\n",
       "      <td>1712776952593924096</td>\n",
       "      <td>3</td>\n",
       "      <td>5</td>\n",
       "      <td>0</td>\n",
       "      <td>1</td>\n",
       "      <td>2023</td>\n",
       "      <td>10</td>\n",
       "      <td>16</td>\n",
       "    </tr>\n",
       "    <tr>\n",
       "      <th>1</th>\n",
       "      <td>1712776952593924096</td>\n",
       "      <td>0</td>\n",
       "      <td>0</td>\n",
       "      <td>0</td>\n",
       "      <td>0</td>\n",
       "      <td>2023</td>\n",
       "      <td>10</td>\n",
       "      <td>16</td>\n",
       "    </tr>\n",
       "    <tr>\n",
       "      <th>2</th>\n",
       "      <td>1712776952593924096</td>\n",
       "      <td>1</td>\n",
       "      <td>1</td>\n",
       "      <td>0</td>\n",
       "      <td>0</td>\n",
       "      <td>2023</td>\n",
       "      <td>10</td>\n",
       "      <td>16</td>\n",
       "    </tr>\n",
       "    <tr>\n",
       "      <th>3</th>\n",
       "      <td>1712776952593924096</td>\n",
       "      <td>0</td>\n",
       "      <td>2</td>\n",
       "      <td>0</td>\n",
       "      <td>0</td>\n",
       "      <td>2023</td>\n",
       "      <td>10</td>\n",
       "      <td>16</td>\n",
       "    </tr>\n",
       "    <tr>\n",
       "      <th>4</th>\n",
       "      <td>1712776952593924096</td>\n",
       "      <td>0</td>\n",
       "      <td>0</td>\n",
       "      <td>0</td>\n",
       "      <td>1</td>\n",
       "      <td>2023</td>\n",
       "      <td>10</td>\n",
       "      <td>16</td>\n",
       "    </tr>\n",
       "    <tr>\n",
       "      <th>...</th>\n",
       "      <td>...</td>\n",
       "      <td>...</td>\n",
       "      <td>...</td>\n",
       "      <td>...</td>\n",
       "      <td>...</td>\n",
       "      <td>...</td>\n",
       "      <td>...</td>\n",
       "      <td>...</td>\n",
       "    </tr>\n",
       "    <tr>\n",
       "      <th>4770</th>\n",
       "      <td>1752382749153927168</td>\n",
       "      <td>608</td>\n",
       "      <td>11402</td>\n",
       "      <td>133</td>\n",
       "      <td>3209</td>\n",
       "      <td>2023</td>\n",
       "      <td>10</td>\n",
       "      <td>7</td>\n",
       "    </tr>\n",
       "    <tr>\n",
       "      <th>4771</th>\n",
       "      <td>1714526492258975744</td>\n",
       "      <td>2</td>\n",
       "      <td>14</td>\n",
       "      <td>0</td>\n",
       "      <td>3</td>\n",
       "      <td>2023</td>\n",
       "      <td>10</td>\n",
       "      <td>7</td>\n",
       "    </tr>\n",
       "    <tr>\n",
       "      <th>4772</th>\n",
       "      <td>1714526492258975744</td>\n",
       "      <td>3</td>\n",
       "      <td>19</td>\n",
       "      <td>0</td>\n",
       "      <td>5</td>\n",
       "      <td>2023</td>\n",
       "      <td>10</td>\n",
       "      <td>7</td>\n",
       "    </tr>\n",
       "    <tr>\n",
       "      <th>4773</th>\n",
       "      <td>1714526492258975744</td>\n",
       "      <td>0</td>\n",
       "      <td>5</td>\n",
       "      <td>0</td>\n",
       "      <td>0</td>\n",
       "      <td>2023</td>\n",
       "      <td>10</td>\n",
       "      <td>7</td>\n",
       "    </tr>\n",
       "    <tr>\n",
       "      <th>4774</th>\n",
       "      <td>1714526492258975744</td>\n",
       "      <td>1</td>\n",
       "      <td>4</td>\n",
       "      <td>0</td>\n",
       "      <td>0</td>\n",
       "      <td>2023</td>\n",
       "      <td>10</td>\n",
       "      <td>7</td>\n",
       "    </tr>\n",
       "  </tbody>\n",
       "</table>\n",
       "<p>4775 rows × 8 columns</p>\n",
       "</div>"
      ],
      "text/plain": [
       "               profile_id  comments  likes  quotes  retweets  year  month  day\n",
       "0     1712776952593924096         3      5       0         1  2023     10   16\n",
       "1     1712776952593924096         0      0       0         0  2023     10   16\n",
       "2     1712776952593924096         1      1       0         0  2023     10   16\n",
       "3     1712776952593924096         0      2       0         0  2023     10   16\n",
       "4     1712776952593924096         0      0       0         1  2023     10   16\n",
       "...                   ...       ...    ...     ...       ...   ...    ...  ...\n",
       "4770  1752382749153927168       608  11402     133      3209  2023     10    7\n",
       "4771  1714526492258975744         2     14       0         3  2023     10    7\n",
       "4772  1714526492258975744         3     19       0         5  2023     10    7\n",
       "4773  1714526492258975744         0      5       0         0  2023     10    7\n",
       "4774  1714526492258975744         1      4       0         0  2023     10    7\n",
       "\n",
       "[4775 rows x 8 columns]"
      ]
     },
     "execution_count": 105,
     "metadata": {},
     "output_type": "execute_result"
    }
   ],
   "source": [
    "df3"
   ]
  },
  {
   "cell_type": "code",
   "execution_count": 106,
   "id": "3bba4d71",
   "metadata": {},
   "outputs": [
    {
     "data": {
      "text/plain": [
       "array(['The Difference❗ Between War Vs Genocide❗  #Israel has killed in 8 days 614 children  in #Gaza according to UN   Where #Russia killed 554 children in 596 days   The Difference of Rate❗ - Russia 0.9 per day - Israel 76.7 per day   #PalestineGenocide #IsrealPalestineconflict',\n",
       "       '🇵🇸🇮🇱🚨 Brave Palestinian lady documenting the ongoing war crimes committed by #Israel in #Gaza including the usage of white phosphorus .  #HamasTerrorist #hamas #IsraelPalestineConflict #GazzeUnderAttack #PalestineGenocide https://nitter.net/Sa91af/status/1713726867046326719/video/1',\n",
       "       'A child from Palestine says what happened to him and his family, that the criminal Zionist entity killed them and he was beaten by them.  #GazzeUnderAttack #Isarael #palastine #PalestineGenocide #GazaCity https://nitter.net/H80583330/status/1713721430318133483/video/1',\n",
       "       ...,\n",
       "       'Israeli warplanes attack #Gaza, according to local sources #Palestine',\n",
       "       'Peace requires justice, freedom and independence for our Palestinian people, the return of refugees, and the full implementation of international legitimacy resolutions [8/8]',\n",
       "       'The continuation of the injustice and oppression to which the Palestinian people are exposed is the reason behind this explosive situation and the absence of peace and security in the region [7/8]'],\n",
       "      dtype=object)"
      ]
     },
     "execution_count": 106,
     "metadata": {},
     "output_type": "execute_result"
    }
   ],
   "source": [
    "df2[\"text\"].values"
   ]
  },
  {
   "cell_type": "code",
   "execution_count": 107,
   "id": "fe6ac272",
   "metadata": {},
   "outputs": [
    {
     "data": {
      "text/plain": [
       "array(['00', '000', '0000017f', ..., '𝟐𝟒', '𝟕𝐭𝐡', '𝟗𝟗'], dtype=object)"
      ]
     },
     "execution_count": 107,
     "metadata": {},
     "output_type": "execute_result"
    }
   ],
   "source": [
    "count = CountVectorizer(stop_words = 'english')\n",
    "\n",
    "count_train = count.fit_transform(df2['text'].values)\n",
    "\n",
    "count.get_feature_names_out()"
   ]
  },
  {
   "cell_type": "code",
   "execution_count": 108,
   "id": "b8d5f18c",
   "metadata": {},
   "outputs": [
    {
     "name": "stderr",
     "output_type": "stream",
     "text": [
      "[nltk_data] Downloading package stopwords to\n",
      "[nltk_data]     C:\\Users\\perso\\AppData\\Roaming\\nltk_data...\n",
      "[nltk_data]   Package stopwords is already up-to-date!\n"
     ]
    }
   ],
   "source": [
    "import numpy as np # linear algebra\n",
    "import pandas as pd # data processing, CSV file I/O (e.g. pd.read_csv)\n",
    "import nltk\n",
    "\n",
    "nltk.download('stopwords')\n",
    "\n",
    "from nltk.corpus import stopwords # import English stopwords\n",
    "stopwords = set(stopwords.words('english'))\n",
    "\n",
    "import re #used for Regular Expression \n",
    "import string\n",
    "from collections import defaultdict"
   ]
  },
  {
   "cell_type": "markdown",
   "id": "68e9a178",
   "metadata": {},
   "source": [
    "<h1>Cleaning functions"
   ]
  },
  {
   "cell_type": "code",
   "execution_count": 109,
   "id": "45e65918",
   "metadata": {},
   "outputs": [
    {
     "name": "stdout",
     "output_type": "stream",
     "text": [
      "Oh non  je suis triste ...\n"
     ]
    }
   ],
   "source": [
    "# Remove all emojis, replace by EMOJI\n",
    "def remove_emoji(text):\n",
    "    emoji_pattern = re.compile(\"[\"\n",
    "                           u\"\\U0001F600-\\U0001F64F\"  # emoticons\n",
    "                           u\"\\U0001F300-\\U0001F5FF\"  # symbols & pictographs\n",
    "                           u\"\\U0001F680-\\U0001F6FF\"  # transport & map symbols\n",
    "                           u\"\\U0001F1E0-\\U0001F1FF\"  # flags (iOS)\n",
    "                           u\"\\U00002702-\\U000027B0\"\n",
    "                           u\"\\U000024C2-\\U0001F251\"\n",
    "                           \"]+\", flags=re.UNICODE)\n",
    "    return emoji_pattern.sub(r'', text)\n",
    "\n",
    "test = \"Oh non 😔 je suis triste ...\"\n",
    "print(remove_emoji(test))"
   ]
  },
  {
   "cell_type": "code",
   "execution_count": 110,
   "id": "fe458b33",
   "metadata": {},
   "outputs": [
    {
     "name": "stdout",
     "output_type": "stream",
     "text": [
      "Je mentionne  ok\n"
     ]
    }
   ],
   "source": [
    "# Remove @ and mention, replace by USER\n",
    "def remove_mention(text):\n",
    "    at=re.compile(r'@\\S+')\n",
    "    return at.sub(r'',text)\n",
    "\n",
    "test = \"Je mentionne @me ok\"\n",
    "print(remove_mention(test))"
   ]
  },
  {
   "cell_type": "code",
   "execution_count": 111,
   "id": "4f1fd9d7",
   "metadata": {},
   "outputs": [
    {
     "name": "stdout",
     "output_type": "stream",
     "text": [
      "\n"
     ]
    }
   ],
   "source": [
    "# Remove numbers, replace it by NUMBER\n",
    "def remove_number(text):\n",
    "    num = re.compile(r'[-+]?[.\\d]*[\\d]+[:,.\\d]*')\n",
    "    return num.sub(r'', text)\n",
    "\n",
    "print(remove_number(\"13.5\"))"
   ]
  },
  {
   "cell_type": "code",
   "execution_count": 112,
   "id": "22c9f097",
   "metadata": {},
   "outputs": [
    {
     "name": "stdout",
     "output_type": "stream",
     "text": [
      "Coucou, venez sur \n"
     ]
    }
   ],
   "source": [
    "# Remove all URLs, replace by URL\n",
    "def remove_URL(text):\n",
    "    url = re.compile(r'https?://\\S+|www\\.\\S+')\n",
    "    return url.sub(r'',text)\n",
    "\n",
    "test = \"Coucou, venez sur https://www.youtube.com/\"\n",
    "print(remove_URL(test))"
   ]
  },
  {
   "cell_type": "code",
   "execution_count": 113,
   "id": "0e08d70e",
   "metadata": {},
   "outputs": [
    {
     "name": "stdout",
     "output_type": "stream",
     "text": [
      "!\n"
     ]
    }
   ],
   "source": [
    "# Factorize repeated punctuation, add REPEAT\n",
    "def remove_repeat_punct(text):\n",
    "    rep = re.compile(r'([!?.]){2,}')\n",
    "    return rep.sub(r'\\1', text)\n",
    "\n",
    "print(remove_repeat_punct(\"!!!!\"))"
   ]
  },
  {
   "cell_type": "code",
   "execution_count": 114,
   "id": "8fa12bc8",
   "metadata": {},
   "outputs": [
    {
     "name": "stdout",
     "output_type": "stream",
     "text": [
      "yes\n"
     ]
    }
   ],
   "source": [
    "# Factorize elongated words, add ELONG\n",
    "def remove_elongated_words(text):\n",
    "    rep = re.compile(r'\\b(\\S*?)([a-z])\\2{2,}\\b')\n",
    "    return rep.sub(r'\\1\\2', text)\n",
    "\n",
    "print(remove_elongated_words(\"yessss\"))"
   ]
  },
  {
   "cell_type": "code",
   "execution_count": 115,
   "id": "fc9c4947",
   "metadata": {},
   "outputs": [
    {
     "name": "stdout",
     "output_type": "stream",
     "text": [
      "\n"
     ]
    }
   ],
   "source": [
    "# Remove words in capslock, add ALLCAPS\n",
    "def remove_allcaps(text):\n",
    "    caps = re.compile(r'([^a-z0-9()<>\\'`\\-]){2,}')\n",
    "    return caps.sub(r'', text)\n",
    "\n",
    "print(remove_allcaps(\"AAAAHH\")) # Can't find how to keep the word in downcase ..."
   ]
  },
  {
   "cell_type": "code",
   "execution_count": 116,
   "id": "326c8c1a",
   "metadata": {},
   "outputs": [
    {
     "name": "stdout",
     "output_type": "stream",
     "text": [
      "happy man\n"
     ]
    }
   ],
   "source": [
    "# Remove all english stopwords\n",
    "def remove_stopwords(text):\n",
    "    text = ' '.join([word for word in text.split() if word not in (stopwords)])\n",
    "    return text\n",
    "\n",
    "test = \"i am an happy man \"\n",
    "print(remove_stopwords(test))"
   ]
  },
  {
   "cell_type": "code",
   "execution_count": 117,
   "id": "295510fb",
   "metadata": {},
   "outputs": [
    {
     "name": "stdout",
     "output_type": "stream",
     "text": [
      "Ceci est un message  avec de la  ponctuation  random \n"
     ]
    }
   ],
   "source": [
    "# Remove all punctuations\n",
    "def remove_all_punct(text):\n",
    "    table = str.maketrans('','',string.punctuation)\n",
    "    return text.translate(table)\n",
    "\n",
    "test = \"Ceci est, un message ! avec de la . ponctuation \" \" random \"\n",
    "print(remove_all_punct(test))"
   ]
  },
  {
   "cell_type": "code",
   "execution_count": 118,
   "id": "2dd59a0e",
   "metadata": {},
   "outputs": [],
   "source": [
    "# Remove punctuations\n",
    "def remove_punct(text):\n",
    "    punctuations = '@#!?+&*[]-%.:/();$=><|{}^' + \"'`\" \n",
    "    for p in punctuations:\n",
    "        text = text.replace(p, f' {p} ')\n",
    "\n",
    "    text = text.replace('...', ' ... ')\n",
    "    if '...' not in text:\n",
    "        text = text.replace('..', ' ... ')   \n",
    "    return text"
   ]
  },
  {
   "cell_type": "code",
   "execution_count": 119,
   "id": "cfe12027",
   "metadata": {},
   "outputs": [],
   "source": [
    "# Remove non printable characters\n",
    "def remove_not_ASCII(text):\n",
    "    text = ''.join([word for word in text if word in string.printable])\n",
    "    return text"
   ]
  },
  {
   "cell_type": "code",
   "execution_count": 120,
   "id": "aad5c492",
   "metadata": {},
   "outputs": [],
   "source": [
    "# Clean text\n",
    "def clean_tweet(text):\n",
    "    \n",
    "    # Remove non text\n",
    "    text = remove_URL(text)\n",
    "    text = remove_not_ASCII(text)\n",
    "    \n",
    "    # Lower text, replace abbreviations\n",
    "    text = text.lower()\n",
    "    text = remove_mention(text)\n",
    "    text = remove_number(text)\n",
    "    \n",
    "    # Remove emojis / smileys\n",
    "    text = remove_emoji(text)\n",
    "    \n",
    "    # Remove repeated puntuations / words\n",
    "    text = remove_elongated_words(text)\n",
    "    text = remove_repeat_punct(text)\n",
    "\n",
    "    text = remove_all_punct(text)\n",
    "    text = remove_punct(text)\n",
    "    text = remove_stopwords(text)\n",
    "\n",
    "    return text"
   ]
  },
  {
   "cell_type": "code",
   "execution_count": 121,
   "id": "0bf44ffb",
   "metadata": {},
   "outputs": [],
   "source": [
    "df3['text'] = df2['text'].apply(clean_tweet)"
   ]
  },
  {
   "cell_type": "code",
   "execution_count": 122,
   "id": "203d4bc7",
   "metadata": {},
   "outputs": [],
   "source": [
    "#count = CountVectorizer(stop_words = 'english')\n",
    "\n",
    "#count_train = count.fit_transform(test2.values)\n",
    "\n",
    "#count.get_feature_names_out()"
   ]
  },
  {
   "cell_type": "code",
   "execution_count": 131,
   "id": "7ef5c8f1",
   "metadata": {},
   "outputs": [
    {
     "data": {
      "text/plain": [
       "'want shani louk remembered never forget shani may memory blessing'"
      ]
     },
     "execution_count": 131,
     "metadata": {},
     "output_type": "execute_result"
    }
   ],
   "source": [
    "df3['text'][2500] #Cleaned text data_tweet"
   ]
  },
  {
   "cell_type": "code",
   "execution_count": null,
   "id": "b9e5a82b",
   "metadata": {},
   "outputs": [],
   "source": []
  }
 ],
 "metadata": {
  "kernelspec": {
   "display_name": "Python 3 (ipykernel)",
   "language": "python",
   "name": "python3"
  },
  "language_info": {
   "codemirror_mode": {
    "name": "ipython",
    "version": 3
   },
   "file_extension": ".py",
   "mimetype": "text/x-python",
   "name": "python",
   "nbconvert_exporter": "python",
   "pygments_lexer": "ipython3",
   "version": "3.9.13"
  }
 },
 "nbformat": 4,
 "nbformat_minor": 5
}
