{
 "cells": [
  {
   "cell_type": "code",
   "execution_count": 144,
   "id": "4f0be293",
   "metadata": {},
   "outputs": [],
   "source": [
    "import pandas as pd\n",
    "import numpy as np\n",
    "import matplotlib.pylab as plt\n",
    "import seaborn as sns\n",
    "\n",
    "\n",
    "from nltk.tokenize import regexp_tokenize, word_tokenize, TweetTokenizer\n",
    "from collections import Counter\n",
    "from datetime import datetime\n",
    "\n",
    "\n",
    "from sklearn.feature_extraction.text import CountVectorizer"
   ]
  },
  {
   "cell_type": "code",
   "execution_count": 145,
   "id": "9341545f",
   "metadata": {},
   "outputs": [],
   "source": [
    "df = pd.read_csv(\"Palestine-Israel_tweet5.csv\")"
   ]
  },
  {
   "cell_type": "code",
   "execution_count": 146,
   "id": "c34dd774",
   "metadata": {},
   "outputs": [],
   "source": [
    "df2 = df.drop(['Unnamed: 0','username','link'], axis=1)"
   ]
  },
  {
   "cell_type": "code",
   "execution_count": 147,
   "id": "5e77c79a",
   "metadata": {},
   "outputs": [
    {
     "name": "stdout",
     "output_type": "stream",
     "text": [
      "<class 'pandas.core.frame.DataFrame'>\n",
      "RangeIndex: 4775 entries, 0 to 4774\n",
      "Data columns (total 7 columns):\n",
      " #   Column      Non-Null Count  Dtype \n",
      "---  ------      --------------  ----- \n",
      " 0   profile_id  4775 non-null   int64 \n",
      " 1   date        4775 non-null   object\n",
      " 2   text        4775 non-null   object\n",
      " 3   comments    4775 non-null   int64 \n",
      " 4   likes       4775 non-null   int64 \n",
      " 5   quotes      4775 non-null   int64 \n",
      " 6   retweets    4775 non-null   int64 \n",
      "dtypes: int64(5), object(2)\n",
      "memory usage: 261.3+ KB\n"
     ]
    }
   ],
   "source": [
    "df2.info()"
   ]
  },
  {
   "cell_type": "code",
   "execution_count": 148,
   "id": "098048f1",
   "metadata": {},
   "outputs": [],
   "source": [
    "# Define the format of the input string\n",
    "date_format = '%b %d, %Y · %I:%M %p %Z'\n",
    "\n",
    "# Convert string to datetime object\n",
    "str_to_date = lambda u : datetime.strptime(u, date_format)\n",
    "\n",
    "df2['date'] = df2['date'].apply(str_to_date)"
   ]
  },
  {
   "cell_type": "code",
   "execution_count": 149,
   "id": "e5c14252",
   "metadata": {},
   "outputs": [
    {
     "data": {
      "text/html": [
       "<div>\n",
       "<style scoped>\n",
       "    .dataframe tbody tr th:only-of-type {\n",
       "        vertical-align: middle;\n",
       "    }\n",
       "\n",
       "    .dataframe tbody tr th {\n",
       "        vertical-align: top;\n",
       "    }\n",
       "\n",
       "    .dataframe thead th {\n",
       "        text-align: right;\n",
       "    }\n",
       "</style>\n",
       "<table border=\"1\" class=\"dataframe\">\n",
       "  <thead>\n",
       "    <tr style=\"text-align: right;\">\n",
       "      <th></th>\n",
       "      <th>profile_id</th>\n",
       "      <th>date</th>\n",
       "      <th>text</th>\n",
       "      <th>comments</th>\n",
       "      <th>likes</th>\n",
       "      <th>quotes</th>\n",
       "      <th>retweets</th>\n",
       "    </tr>\n",
       "  </thead>\n",
       "  <tbody>\n",
       "    <tr>\n",
       "      <th>0</th>\n",
       "      <td>1712776952593924096</td>\n",
       "      <td>2023-10-16 04:35:00</td>\n",
       "      <td>The Difference❗ Between War Vs Genocide❗  #Isr...</td>\n",
       "      <td>3</td>\n",
       "      <td>5</td>\n",
       "      <td>0</td>\n",
       "      <td>1</td>\n",
       "    </tr>\n",
       "    <tr>\n",
       "      <th>1</th>\n",
       "      <td>1712776952593924096</td>\n",
       "      <td>2023-10-16 04:31:00</td>\n",
       "      <td>🇵🇸🇮🇱🚨 Brave Palestinian lady documenting the o...</td>\n",
       "      <td>0</td>\n",
       "      <td>0</td>\n",
       "      <td>0</td>\n",
       "      <td>0</td>\n",
       "    </tr>\n",
       "    <tr>\n",
       "      <th>2</th>\n",
       "      <td>1712776952593924096</td>\n",
       "      <td>2023-10-16 04:31:00</td>\n",
       "      <td>A child from Palestine says what happened to h...</td>\n",
       "      <td>1</td>\n",
       "      <td>1</td>\n",
       "      <td>0</td>\n",
       "      <td>0</td>\n",
       "    </tr>\n",
       "    <tr>\n",
       "      <th>3</th>\n",
       "      <td>1712776952593924096</td>\n",
       "      <td>2023-10-16 04:30:00</td>\n",
       "      <td>No, this devastation is not caused by the eart...</td>\n",
       "      <td>0</td>\n",
       "      <td>2</td>\n",
       "      <td>0</td>\n",
       "      <td>0</td>\n",
       "    </tr>\n",
       "    <tr>\n",
       "      <th>4</th>\n",
       "      <td>1712776952593924096</td>\n",
       "      <td>2023-10-16 04:30:00</td>\n",
       "      <td>BREAKING! Israeli warplanes have been continuo...</td>\n",
       "      <td>0</td>\n",
       "      <td>0</td>\n",
       "      <td>0</td>\n",
       "      <td>1</td>\n",
       "    </tr>\n",
       "    <tr>\n",
       "      <th>...</th>\n",
       "      <td>...</td>\n",
       "      <td>...</td>\n",
       "      <td>...</td>\n",
       "      <td>...</td>\n",
       "      <td>...</td>\n",
       "      <td>...</td>\n",
       "      <td>...</td>\n",
       "    </tr>\n",
       "    <tr>\n",
       "      <th>4770</th>\n",
       "      <td>1752382749153927168</td>\n",
       "      <td>2023-10-07 14:33:00</td>\n",
       "      <td>Such language from the U.K. government and oth...</td>\n",
       "      <td>608</td>\n",
       "      <td>11402</td>\n",
       "      <td>133</td>\n",
       "      <td>3209</td>\n",
       "    </tr>\n",
       "    <tr>\n",
       "      <th>4771</th>\n",
       "      <td>1714526492258975744</td>\n",
       "      <td>2023-10-07 13:53:00</td>\n",
       "      <td>President Mahmoud Abbas chairs an emergency le...</td>\n",
       "      <td>2</td>\n",
       "      <td>14</td>\n",
       "      <td>0</td>\n",
       "      <td>3</td>\n",
       "    </tr>\n",
       "    <tr>\n",
       "      <th>4772</th>\n",
       "      <td>1714526492258975744</td>\n",
       "      <td>2023-10-07 12:49:00</td>\n",
       "      <td>Israeli warplanes attack #Gaza, according to l...</td>\n",
       "      <td>3</td>\n",
       "      <td>19</td>\n",
       "      <td>0</td>\n",
       "      <td>5</td>\n",
       "    </tr>\n",
       "    <tr>\n",
       "      <th>4773</th>\n",
       "      <td>1714526492258975744</td>\n",
       "      <td>2023-10-07 12:24:00</td>\n",
       "      <td>Peace requires justice, freedom and independen...</td>\n",
       "      <td>0</td>\n",
       "      <td>5</td>\n",
       "      <td>0</td>\n",
       "      <td>0</td>\n",
       "    </tr>\n",
       "    <tr>\n",
       "      <th>4774</th>\n",
       "      <td>1714526492258975744</td>\n",
       "      <td>2023-10-07 12:24:00</td>\n",
       "      <td>The continuation of the injustice and oppressi...</td>\n",
       "      <td>1</td>\n",
       "      <td>4</td>\n",
       "      <td>0</td>\n",
       "      <td>0</td>\n",
       "    </tr>\n",
       "  </tbody>\n",
       "</table>\n",
       "<p>4775 rows × 7 columns</p>\n",
       "</div>"
      ],
      "text/plain": [
       "               profile_id                date  \\\n",
       "0     1712776952593924096 2023-10-16 04:35:00   \n",
       "1     1712776952593924096 2023-10-16 04:31:00   \n",
       "2     1712776952593924096 2023-10-16 04:31:00   \n",
       "3     1712776952593924096 2023-10-16 04:30:00   \n",
       "4     1712776952593924096 2023-10-16 04:30:00   \n",
       "...                   ...                 ...   \n",
       "4770  1752382749153927168 2023-10-07 14:33:00   \n",
       "4771  1714526492258975744 2023-10-07 13:53:00   \n",
       "4772  1714526492258975744 2023-10-07 12:49:00   \n",
       "4773  1714526492258975744 2023-10-07 12:24:00   \n",
       "4774  1714526492258975744 2023-10-07 12:24:00   \n",
       "\n",
       "                                                   text  comments  likes  \\\n",
       "0     The Difference❗ Between War Vs Genocide❗  #Isr...         3      5   \n",
       "1     🇵🇸🇮🇱🚨 Brave Palestinian lady documenting the o...         0      0   \n",
       "2     A child from Palestine says what happened to h...         1      1   \n",
       "3     No, this devastation is not caused by the eart...         0      2   \n",
       "4     BREAKING! Israeli warplanes have been continuo...         0      0   \n",
       "...                                                 ...       ...    ...   \n",
       "4770  Such language from the U.K. government and oth...       608  11402   \n",
       "4771  President Mahmoud Abbas chairs an emergency le...         2     14   \n",
       "4772  Israeli warplanes attack #Gaza, according to l...         3     19   \n",
       "4773  Peace requires justice, freedom and independen...         0      5   \n",
       "4774  The continuation of the injustice and oppressi...         1      4   \n",
       "\n",
       "      quotes  retweets  \n",
       "0          0         1  \n",
       "1          0         0  \n",
       "2          0         0  \n",
       "3          0         0  \n",
       "4          0         1  \n",
       "...      ...       ...  \n",
       "4770     133      3209  \n",
       "4771       0         3  \n",
       "4772       0         5  \n",
       "4773       0         0  \n",
       "4774       0         0  \n",
       "\n",
       "[4775 rows x 7 columns]"
      ]
     },
     "execution_count": 149,
     "metadata": {},
     "output_type": "execute_result"
    }
   ],
   "source": [
    "df2"
   ]
  },
  {
   "cell_type": "code",
   "execution_count": 150,
   "id": "0ccea3c2",
   "metadata": {},
   "outputs": [],
   "source": [
    "df3 = df2.drop(['date','text'],axis=1)\n",
    "df3['year']=df2['date'].dt.year\n",
    "df3['month']=df2['date'].dt.month\n",
    "df3['day']=df2['date'].dt.day"
   ]
  },
  {
   "cell_type": "code",
   "execution_count": 151,
   "id": "9bc1d298",
   "metadata": {},
   "outputs": [
    {
     "data": {
      "text/html": [
       "<div>\n",
       "<style scoped>\n",
       "    .dataframe tbody tr th:only-of-type {\n",
       "        vertical-align: middle;\n",
       "    }\n",
       "\n",
       "    .dataframe tbody tr th {\n",
       "        vertical-align: top;\n",
       "    }\n",
       "\n",
       "    .dataframe thead th {\n",
       "        text-align: right;\n",
       "    }\n",
       "</style>\n",
       "<table border=\"1\" class=\"dataframe\">\n",
       "  <thead>\n",
       "    <tr style=\"text-align: right;\">\n",
       "      <th></th>\n",
       "      <th>profile_id</th>\n",
       "      <th>comments</th>\n",
       "      <th>likes</th>\n",
       "      <th>quotes</th>\n",
       "      <th>retweets</th>\n",
       "      <th>year</th>\n",
       "      <th>month</th>\n",
       "      <th>day</th>\n",
       "    </tr>\n",
       "  </thead>\n",
       "  <tbody>\n",
       "    <tr>\n",
       "      <th>0</th>\n",
       "      <td>1712776952593924096</td>\n",
       "      <td>3</td>\n",
       "      <td>5</td>\n",
       "      <td>0</td>\n",
       "      <td>1</td>\n",
       "      <td>2023</td>\n",
       "      <td>10</td>\n",
       "      <td>16</td>\n",
       "    </tr>\n",
       "    <tr>\n",
       "      <th>1</th>\n",
       "      <td>1712776952593924096</td>\n",
       "      <td>0</td>\n",
       "      <td>0</td>\n",
       "      <td>0</td>\n",
       "      <td>0</td>\n",
       "      <td>2023</td>\n",
       "      <td>10</td>\n",
       "      <td>16</td>\n",
       "    </tr>\n",
       "    <tr>\n",
       "      <th>2</th>\n",
       "      <td>1712776952593924096</td>\n",
       "      <td>1</td>\n",
       "      <td>1</td>\n",
       "      <td>0</td>\n",
       "      <td>0</td>\n",
       "      <td>2023</td>\n",
       "      <td>10</td>\n",
       "      <td>16</td>\n",
       "    </tr>\n",
       "    <tr>\n",
       "      <th>3</th>\n",
       "      <td>1712776952593924096</td>\n",
       "      <td>0</td>\n",
       "      <td>2</td>\n",
       "      <td>0</td>\n",
       "      <td>0</td>\n",
       "      <td>2023</td>\n",
       "      <td>10</td>\n",
       "      <td>16</td>\n",
       "    </tr>\n",
       "    <tr>\n",
       "      <th>4</th>\n",
       "      <td>1712776952593924096</td>\n",
       "      <td>0</td>\n",
       "      <td>0</td>\n",
       "      <td>0</td>\n",
       "      <td>1</td>\n",
       "      <td>2023</td>\n",
       "      <td>10</td>\n",
       "      <td>16</td>\n",
       "    </tr>\n",
       "    <tr>\n",
       "      <th>...</th>\n",
       "      <td>...</td>\n",
       "      <td>...</td>\n",
       "      <td>...</td>\n",
       "      <td>...</td>\n",
       "      <td>...</td>\n",
       "      <td>...</td>\n",
       "      <td>...</td>\n",
       "      <td>...</td>\n",
       "    </tr>\n",
       "    <tr>\n",
       "      <th>4770</th>\n",
       "      <td>1752382749153927168</td>\n",
       "      <td>608</td>\n",
       "      <td>11402</td>\n",
       "      <td>133</td>\n",
       "      <td>3209</td>\n",
       "      <td>2023</td>\n",
       "      <td>10</td>\n",
       "      <td>7</td>\n",
       "    </tr>\n",
       "    <tr>\n",
       "      <th>4771</th>\n",
       "      <td>1714526492258975744</td>\n",
       "      <td>2</td>\n",
       "      <td>14</td>\n",
       "      <td>0</td>\n",
       "      <td>3</td>\n",
       "      <td>2023</td>\n",
       "      <td>10</td>\n",
       "      <td>7</td>\n",
       "    </tr>\n",
       "    <tr>\n",
       "      <th>4772</th>\n",
       "      <td>1714526492258975744</td>\n",
       "      <td>3</td>\n",
       "      <td>19</td>\n",
       "      <td>0</td>\n",
       "      <td>5</td>\n",
       "      <td>2023</td>\n",
       "      <td>10</td>\n",
       "      <td>7</td>\n",
       "    </tr>\n",
       "    <tr>\n",
       "      <th>4773</th>\n",
       "      <td>1714526492258975744</td>\n",
       "      <td>0</td>\n",
       "      <td>5</td>\n",
       "      <td>0</td>\n",
       "      <td>0</td>\n",
       "      <td>2023</td>\n",
       "      <td>10</td>\n",
       "      <td>7</td>\n",
       "    </tr>\n",
       "    <tr>\n",
       "      <th>4774</th>\n",
       "      <td>1714526492258975744</td>\n",
       "      <td>1</td>\n",
       "      <td>4</td>\n",
       "      <td>0</td>\n",
       "      <td>0</td>\n",
       "      <td>2023</td>\n",
       "      <td>10</td>\n",
       "      <td>7</td>\n",
       "    </tr>\n",
       "  </tbody>\n",
       "</table>\n",
       "<p>4775 rows × 8 columns</p>\n",
       "</div>"
      ],
      "text/plain": [
       "               profile_id  comments  likes  quotes  retweets  year  month  day\n",
       "0     1712776952593924096         3      5       0         1  2023     10   16\n",
       "1     1712776952593924096         0      0       0         0  2023     10   16\n",
       "2     1712776952593924096         1      1       0         0  2023     10   16\n",
       "3     1712776952593924096         0      2       0         0  2023     10   16\n",
       "4     1712776952593924096         0      0       0         1  2023     10   16\n",
       "...                   ...       ...    ...     ...       ...   ...    ...  ...\n",
       "4770  1752382749153927168       608  11402     133      3209  2023     10    7\n",
       "4771  1714526492258975744         2     14       0         3  2023     10    7\n",
       "4772  1714526492258975744         3     19       0         5  2023     10    7\n",
       "4773  1714526492258975744         0      5       0         0  2023     10    7\n",
       "4774  1714526492258975744         1      4       0         0  2023     10    7\n",
       "\n",
       "[4775 rows x 8 columns]"
      ]
     },
     "execution_count": 151,
     "metadata": {},
     "output_type": "execute_result"
    }
   ],
   "source": [
    "df3"
   ]
  },
  {
   "cell_type": "code",
   "execution_count": 152,
   "id": "3bba4d71",
   "metadata": {},
   "outputs": [
    {
     "data": {
      "text/plain": [
       "array(['The Difference❗ Between War Vs Genocide❗  #Israel has killed in 8 days 614 children  in #Gaza according to UN   Where #Russia killed 554 children in 596 days   The Difference of Rate❗ - Russia 0.9 per day - Israel 76.7 per day   #PalestineGenocide #IsrealPalestineconflict',\n",
       "       '🇵🇸🇮🇱🚨 Brave Palestinian lady documenting the ongoing war crimes committed by #Israel in #Gaza including the usage of white phosphorus .  #HamasTerrorist #hamas #IsraelPalestineConflict #GazzeUnderAttack #PalestineGenocide https://nitter.net/Sa91af/status/1713726867046326719/video/1',\n",
       "       'A child from Palestine says what happened to him and his family, that the criminal Zionist entity killed them and he was beaten by them.  #GazzeUnderAttack #Isarael #palastine #PalestineGenocide #GazaCity https://nitter.net/H80583330/status/1713721430318133483/video/1',\n",
       "       ...,\n",
       "       'Israeli warplanes attack #Gaza, according to local sources #Palestine',\n",
       "       'Peace requires justice, freedom and independence for our Palestinian people, the return of refugees, and the full implementation of international legitimacy resolutions [8/8]',\n",
       "       'The continuation of the injustice and oppression to which the Palestinian people are exposed is the reason behind this explosive situation and the absence of peace and security in the region [7/8]'],\n",
       "      dtype=object)"
      ]
     },
     "execution_count": 152,
     "metadata": {},
     "output_type": "execute_result"
    }
   ],
   "source": [
    "df2[\"text\"].values"
   ]
  },
  {
   "cell_type": "code",
   "execution_count": 153,
   "id": "fe6ac272",
   "metadata": {},
   "outputs": [
    {
     "data": {
      "text/plain": [
       "array(['00', '000', '0000017f', ..., '𝟐𝟒', '𝟕𝐭𝐡', '𝟗𝟗'], dtype=object)"
      ]
     },
     "execution_count": 153,
     "metadata": {},
     "output_type": "execute_result"
    }
   ],
   "source": [
    "count = CountVectorizer(stop_words = 'english')\n",
    "\n",
    "count_train = count.fit_transform(df2['text'].values)\n",
    "\n",
    "count.get_feature_names_out()"
   ]
  },
  {
   "cell_type": "code",
   "execution_count": 154,
   "id": "b8d5f18c",
   "metadata": {},
   "outputs": [
    {
     "name": "stderr",
     "output_type": "stream",
     "text": [
      "[nltk_data] Downloading package stopwords to\n",
      "[nltk_data]     C:\\Users\\perso\\AppData\\Roaming\\nltk_data...\n",
      "[nltk_data]   Package stopwords is already up-to-date!\n"
     ]
    }
   ],
   "source": [
    "import numpy as np # linear algebra\n",
    "import pandas as pd # data processing, CSV file I/O (e.g. pd.read_csv)\n",
    "import nltk\n",
    "\n",
    "nltk.download('stopwords')\n",
    "\n",
    "from nltk.corpus import stopwords # import English stopwords\n",
    "stopwords = set(stopwords.words('english'))\n",
    "\n",
    "import re #used for Regular Expression \n",
    "import string\n",
    "from collections import defaultdict"
   ]
  },
  {
   "cell_type": "markdown",
   "id": "68e9a178",
   "metadata": {},
   "source": [
    "<h1>Cleaning functions"
   ]
  },
  {
   "cell_type": "code",
   "execution_count": 155,
   "id": "45e65918",
   "metadata": {},
   "outputs": [
    {
     "name": "stdout",
     "output_type": "stream",
     "text": [
      "Oh non  je suis triste ...\n"
     ]
    }
   ],
   "source": [
    "# Remove all emojis, replace by EMOJI\n",
    "def remove_emoji(text):\n",
    "    emoji_pattern = re.compile(\"[\"\n",
    "                           u\"\\U0001F600-\\U0001F64F\"  # emoticons\n",
    "                           u\"\\U0001F300-\\U0001F5FF\"  # symbols & pictographs\n",
    "                           u\"\\U0001F680-\\U0001F6FF\"  # transport & map symbols\n",
    "                           u\"\\U0001F1E0-\\U0001F1FF\"  # flags (iOS)\n",
    "                           u\"\\U00002702-\\U000027B0\"\n",
    "                           u\"\\U000024C2-\\U0001F251\"\n",
    "                           \"]+\", flags=re.UNICODE)\n",
    "    return emoji_pattern.sub(r'', text)\n",
    "\n",
    "test = \"Oh non 😔 je suis triste ...\"\n",
    "print(remove_emoji(test))"
   ]
  },
  {
   "cell_type": "code",
   "execution_count": 156,
   "id": "fe458b33",
   "metadata": {},
   "outputs": [
    {
     "name": "stdout",
     "output_type": "stream",
     "text": [
      "Je mentionne  ok\n"
     ]
    }
   ],
   "source": [
    "# Remove @ and mention, replace by USER\n",
    "def remove_mention(text):\n",
    "    at=re.compile(r'@\\S+')\n",
    "    return at.sub(r'',text)\n",
    "\n",
    "test = \"Je mentionne @me ok\"\n",
    "print(remove_mention(test))"
   ]
  },
  {
   "cell_type": "code",
   "execution_count": 157,
   "id": "4f1fd9d7",
   "metadata": {},
   "outputs": [
    {
     "name": "stdout",
     "output_type": "stream",
     "text": [
      "\n"
     ]
    }
   ],
   "source": [
    "# Remove numbers, replace it by NUMBER\n",
    "def remove_number(text):\n",
    "    num = re.compile(r'[-+]?[.\\d]*[\\d]+[:,.\\d]*')\n",
    "    return num.sub(r'', text)\n",
    "\n",
    "print(remove_number(\"13.5\"))"
   ]
  },
  {
   "cell_type": "code",
   "execution_count": 158,
   "id": "22c9f097",
   "metadata": {},
   "outputs": [
    {
     "name": "stdout",
     "output_type": "stream",
     "text": [
      "Coucou, venez sur \n"
     ]
    }
   ],
   "source": [
    "# Remove all URLs, replace by URL\n",
    "def remove_URL(text):\n",
    "    url = re.compile(r'https?://\\S+|www\\.\\S+')\n",
    "    return url.sub(r'',text)\n",
    "\n",
    "test = \"Coucou, venez sur https://www.youtube.com/\"\n",
    "print(remove_URL(test))"
   ]
  },
  {
   "cell_type": "code",
   "execution_count": 159,
   "id": "0e08d70e",
   "metadata": {},
   "outputs": [
    {
     "name": "stdout",
     "output_type": "stream",
     "text": [
      "!\n"
     ]
    }
   ],
   "source": [
    "# Factorize repeated punctuation, add REPEAT\n",
    "def remove_repeat_punct(text):\n",
    "    rep = re.compile(r'([!?.]){2,}')\n",
    "    return rep.sub(r'\\1', text)\n",
    "\n",
    "print(remove_repeat_punct(\"!!!!\"))"
   ]
  },
  {
   "cell_type": "code",
   "execution_count": 160,
   "id": "8fa12bc8",
   "metadata": {},
   "outputs": [
    {
     "name": "stdout",
     "output_type": "stream",
     "text": [
      "yes\n"
     ]
    }
   ],
   "source": [
    "# Factorize elongated words, add ELONG\n",
    "def remove_elongated_words(text):\n",
    "    rep = re.compile(r'\\b(\\S*?)([a-z])\\2{2,}\\b')\n",
    "    return rep.sub(r'\\1\\2', text)\n",
    "\n",
    "print(remove_elongated_words(\"yessss\"))"
   ]
  },
  {
   "cell_type": "code",
   "execution_count": 161,
   "id": "fc9c4947",
   "metadata": {},
   "outputs": [
    {
     "name": "stdout",
     "output_type": "stream",
     "text": [
      "\n"
     ]
    }
   ],
   "source": [
    "# Remove words in capslock, add ALLCAPS\n",
    "def remove_allcaps(text):\n",
    "    caps = re.compile(r'([^a-z0-9()<>\\'`\\-]){2,}')\n",
    "    return caps.sub(r'', text)\n",
    "\n",
    "print(remove_allcaps(\"AAAAHH\")) # Can't find how to keep the word in downcase ..."
   ]
  },
  {
   "cell_type": "code",
   "execution_count": 162,
   "id": "326c8c1a",
   "metadata": {},
   "outputs": [
    {
     "name": "stdout",
     "output_type": "stream",
     "text": [
      "happy man\n"
     ]
    }
   ],
   "source": [
    "# Remove all english stopwords\n",
    "def remove_stopwords(text):\n",
    "    text = ' '.join([word for word in text.split() if word not in (stopwords)])\n",
    "    return text\n",
    "\n",
    "test = \"i am an happy man \"\n",
    "print(remove_stopwords(test))"
   ]
  },
  {
   "cell_type": "code",
   "execution_count": 163,
   "id": "295510fb",
   "metadata": {},
   "outputs": [
    {
     "name": "stdout",
     "output_type": "stream",
     "text": [
      "Ceci est un message  avec de la  ponctuation  random \n"
     ]
    }
   ],
   "source": [
    "# Remove all punctuations\n",
    "def remove_all_punct(text):\n",
    "    table = str.maketrans('','',string.punctuation)\n",
    "    return text.translate(table)\n",
    "\n",
    "test = \"Ceci est, un message ! avec de la . ponctuation \" \" random \"\n",
    "print(remove_all_punct(test))"
   ]
  },
  {
   "cell_type": "code",
   "execution_count": 164,
   "id": "2dd59a0e",
   "metadata": {},
   "outputs": [],
   "source": [
    "# Remove punctuations\n",
    "def remove_punct(text):\n",
    "    punctuations = '@#!?+&*[]-%.:/();$=><|{}^' + \"'`\" \n",
    "    for p in punctuations:\n",
    "        text = text.replace(p, f' {p} ')\n",
    "\n",
    "    text = text.replace('...', ' ... ')\n",
    "    if '...' not in text:\n",
    "        text = text.replace('..', ' ... ')   \n",
    "    return text"
   ]
  },
  {
   "cell_type": "code",
   "execution_count": 165,
   "id": "cfe12027",
   "metadata": {},
   "outputs": [],
   "source": [
    "# Remove non printable characters\n",
    "def remove_not_ASCII(text):\n",
    "    text = ''.join([word for word in text if word in string.printable])\n",
    "    return text"
   ]
  },
  {
   "cell_type": "code",
   "execution_count": 279,
   "id": "aad5c492",
   "metadata": {},
   "outputs": [],
   "source": [
    "stemmer = PorterStemmer()\n",
    "# Clean text\n",
    "def clean_tweet(text):\n",
    "    \n",
    "    # Remove non text\n",
    "    text = remove_URL(text)      #remove links\n",
    "    text = remove_not_ASCII(text)      #remove nonsense character\n",
    "    \n",
    "    # Lower text, replace abbreviations\n",
    "    text = text.lower()          #replace all word to lower\n",
    "    text = remove_mention(text)  #remove @--\n",
    "    text = remove_number(text)   #remove numbers\n",
    "    \n",
    "    # Remove emojis / smileys\n",
    "    text = remove_emoji(text) \n",
    "    \n",
    "    # Remove repeated puntuations / words\n",
    "    text = remove_elongated_words(text)    #revomve word repeated like HHHHHH\n",
    "    text = remove_repeat_punct(text)       #remove repeated punctuation\n",
    "\n",
    "    text = remove_all_punct(text)          #remove punctuation\n",
    "    text = remove_punct(text)              #remove other punctuation\n",
    "    text = remove_stopwords(text)          #remove basic words like (and,or,...)\n",
    "    \n",
    "    #Stemming or Lemmatization\n",
    "    text = lemmatizing2(text)               #replace words to simple (infinitif , singular, ...)\n",
    "    #text = stemming(text)                  #remove last letters\n",
    "    \n",
    "    #My methode of lemmatization\n",
    "    text =clean_lemma(text)\n",
    "\n",
    "    return text"
   ]
  },
  {
   "cell_type": "code",
   "execution_count": 280,
   "id": "0bf44ffb",
   "metadata": {},
   "outputs": [
    {
     "data": {
      "text/plain": [
       "'want shani louk remembered never forget shani may memory blessing'"
      ]
     },
     "execution_count": 280,
     "metadata": {},
     "output_type": "execute_result"
    }
   ],
   "source": [
    "df3['text'] = df2['text'].apply(clean_tweet)\n",
    "df3['text'][2500] #Cleaned text data_tweet"
   ]
  },
  {
   "cell_type": "code",
   "execution_count": 191,
   "id": "09c8ed50",
   "metadata": {},
   "outputs": [
    {
     "name": "stderr",
     "output_type": "stream",
     "text": [
      "[nltk_data] Downloading package wordnet to\n",
      "[nltk_data]     C:\\Users\\perso\\AppData\\Roaming\\nltk_data...\n",
      "[nltk_data]   Package wordnet is already up-to-date!\n",
      "[nltk_data] Downloading package omw-1.4 to\n",
      "[nltk_data]     C:\\Users\\perso\\AppData\\Roaming\\nltk_data...\n",
      "[nltk_data]   Package omw-1.4 is already up-to-date!\n"
     ]
    },
    {
     "data": {
      "text/plain": [
       "True"
      ]
     },
     "execution_count": 191,
     "metadata": {},
     "output_type": "execute_result"
    }
   ],
   "source": [
    "from nltk.stem import PorterStemmer\n",
    "from nltk.stem import WordNetLemmatizer\n",
    "import nltk\n",
    "nltk.download('wordnet')\n",
    "nltk.download('omw-1.4')"
   ]
  },
  {
   "cell_type": "code",
   "execution_count": 192,
   "id": "b8a7ceb6",
   "metadata": {},
   "outputs": [],
   "source": [
    "lemmatizer = WordNetLemmatizer()\n",
    "def lemmatizing(text):\n",
    "    data=text.split(' ')\n",
    "    data2 = [lemmatizer.lemmatize(word) for word in data]\n",
    "    text2=' '.join(data2)\n",
    "    return text2"
   ]
  },
  {
   "cell_type": "code",
   "execution_count": 193,
   "id": "b60bb0ac",
   "metadata": {},
   "outputs": [],
   "source": [
    "stemmer = PorterStemmer()\n",
    "def stemming(text):\n",
    "    data=text.split(' ')\n",
    "    data2 = [stemmer.stem(word) for word in data]\n",
    "    text2=' '.join(data2)\n",
    "    return text2"
   ]
  },
  {
   "cell_type": "code",
   "execution_count": 194,
   "id": "2f16ec2e",
   "metadata": {},
   "outputs": [],
   "source": [
    "df3['text'] = df2['text'].apply(clean_tweet)"
   ]
  },
  {
   "cell_type": "code",
   "execution_count": 239,
   "id": "6746e256",
   "metadata": {},
   "outputs": [
    {
     "name": "stdout",
     "output_type": "stream",
     "text": [
      "Collecting en-core-web-md==3.7.1\n",
      "  Downloading https://github.com/explosion/spacy-models/releases/download/en_core_web_md-3.7.1/en_core_web_md-3.7.1-py3-none-any.whl (42.8 MB)\n",
      "     -------------------------------------- 42.8/42.8 MB 360.8 kB/s eta 0:00:00\n",
      "Requirement already satisfied: spacy<3.8.0,>=3.7.2 in c:\\users\\perso\\anaconda3\\lib\\site-packages (from en-core-web-md==3.7.1) (3.7.4)\n",
      "Requirement already satisfied: spacy-legacy<3.1.0,>=3.0.11 in c:\\users\\perso\\anaconda3\\lib\\site-packages (from spacy<3.8.0,>=3.7.2->en-core-web-md==3.7.1) (3.0.12)\n",
      "Requirement already satisfied: spacy-loggers<2.0.0,>=1.0.0 in c:\\users\\perso\\anaconda3\\lib\\site-packages (from spacy<3.8.0,>=3.7.2->en-core-web-md==3.7.1) (1.0.5)\n",
      "Requirement already satisfied: murmurhash<1.1.0,>=0.28.0 in c:\\users\\perso\\anaconda3\\lib\\site-packages (from spacy<3.8.0,>=3.7.2->en-core-web-md==3.7.1) (1.0.10)\n",
      "Requirement already satisfied: cymem<2.1.0,>=2.0.2 in c:\\users\\perso\\anaconda3\\lib\\site-packages (from spacy<3.8.0,>=3.7.2->en-core-web-md==3.7.1) (2.0.8)\n",
      "Requirement already satisfied: preshed<3.1.0,>=3.0.2 in c:\\users\\perso\\anaconda3\\lib\\site-packages (from spacy<3.8.0,>=3.7.2->en-core-web-md==3.7.1) (3.0.9)\n",
      "Requirement already satisfied: thinc<8.3.0,>=8.2.2 in c:\\users\\perso\\anaconda3\\lib\\site-packages (from spacy<3.8.0,>=3.7.2->en-core-web-md==3.7.1) (8.2.3)\n",
      "Requirement already satisfied: wasabi<1.2.0,>=0.9.1 in c:\\users\\perso\\anaconda3\\lib\\site-packages (from spacy<3.8.0,>=3.7.2->en-core-web-md==3.7.1) (1.1.2)\n",
      "Requirement already satisfied: srsly<3.0.0,>=2.4.3 in c:\\users\\perso\\anaconda3\\lib\\site-packages (from spacy<3.8.0,>=3.7.2->en-core-web-md==3.7.1) (2.4.8)\n",
      "Requirement already satisfied: catalogue<2.1.0,>=2.0.6 in c:\\users\\perso\\anaconda3\\lib\\site-packages (from spacy<3.8.0,>=3.7.2->en-core-web-md==3.7.1) (2.0.10)\n",
      "Requirement already satisfied: weasel<0.4.0,>=0.1.0 in c:\\users\\perso\\anaconda3\\lib\\site-packages (from spacy<3.8.0,>=3.7.2->en-core-web-md==3.7.1) (0.3.4)\n",
      "Requirement already satisfied: typer<0.10.0,>=0.3.0 in c:\\users\\perso\\anaconda3\\lib\\site-packages (from spacy<3.8.0,>=3.7.2->en-core-web-md==3.7.1) (0.9.4)\n",
      "Requirement already satisfied: smart-open<7.0.0,>=5.2.1 in c:\\users\\perso\\anaconda3\\lib\\site-packages (from spacy<3.8.0,>=3.7.2->en-core-web-md==3.7.1) (5.2.1)\n",
      "Requirement already satisfied: tqdm<5.0.0,>=4.38.0 in c:\\users\\perso\\anaconda3\\lib\\site-packages (from spacy<3.8.0,>=3.7.2->en-core-web-md==3.7.1) (4.64.1)\n",
      "Requirement already satisfied: requests<3.0.0,>=2.13.0 in c:\\users\\perso\\anaconda3\\lib\\site-packages (from spacy<3.8.0,>=3.7.2->en-core-web-md==3.7.1) (2.28.1)\n",
      "Requirement already satisfied: pydantic!=1.8,!=1.8.1,<3.0.0,>=1.7.4 in c:\\users\\perso\\anaconda3\\lib\\site-packages (from spacy<3.8.0,>=3.7.2->en-core-web-md==3.7.1) (2.7.1)\n",
      "Requirement already satisfied: jinja2 in c:\\users\\perso\\anaconda3\\lib\\site-packages (from spacy<3.8.0,>=3.7.2->en-core-web-md==3.7.1) (2.11.3)\n",
      "Requirement already satisfied: setuptools in c:\\users\\perso\\anaconda3\\lib\\site-packages (from spacy<3.8.0,>=3.7.2->en-core-web-md==3.7.1) (69.5.1)\n",
      "Requirement already satisfied: packaging>=20.0 in c:\\users\\perso\\anaconda3\\lib\\site-packages (from spacy<3.8.0,>=3.7.2->en-core-web-md==3.7.1) (21.3)\n",
      "Requirement already satisfied: langcodes<4.0.0,>=3.2.0 in c:\\users\\perso\\anaconda3\\lib\\site-packages (from spacy<3.8.0,>=3.7.2->en-core-web-md==3.7.1) (3.4.0)\n",
      "Requirement already satisfied: numpy>=1.19.0 in c:\\users\\perso\\anaconda3\\lib\\site-packages (from spacy<3.8.0,>=3.7.2->en-core-web-md==3.7.1) (1.21.5)\n",
      "Requirement already satisfied: language-data>=1.2 in c:\\users\\perso\\anaconda3\\lib\\site-packages (from langcodes<4.0.0,>=3.2.0->spacy<3.8.0,>=3.7.2->en-core-web-md==3.7.1) (1.2.0)\n",
      "Requirement already satisfied: pyparsing!=3.0.5,>=2.0.2 in c:\\users\\perso\\anaconda3\\lib\\site-packages (from packaging>=20.0->spacy<3.8.0,>=3.7.2->en-core-web-md==3.7.1) (3.0.9)\n",
      "Requirement already satisfied: annotated-types>=0.4.0 in c:\\users\\perso\\anaconda3\\lib\\site-packages (from pydantic!=1.8,!=1.8.1,<3.0.0,>=1.7.4->spacy<3.8.0,>=3.7.2->en-core-web-md==3.7.1) (0.6.0)\n",
      "Requirement already satisfied: pydantic-core==2.18.2 in c:\\users\\perso\\anaconda3\\lib\\site-packages (from pydantic!=1.8,!=1.8.1,<3.0.0,>=1.7.4->spacy<3.8.0,>=3.7.2->en-core-web-md==3.7.1) (2.18.2)\n",
      "Requirement already satisfied: typing-extensions>=4.6.1 in c:\\users\\perso\\anaconda3\\lib\\site-packages (from pydantic!=1.8,!=1.8.1,<3.0.0,>=1.7.4->spacy<3.8.0,>=3.7.2->en-core-web-md==3.7.1) (4.10.0)\n",
      "Requirement already satisfied: charset-normalizer<3,>=2 in c:\\users\\perso\\anaconda3\\lib\\site-packages (from requests<3.0.0,>=2.13.0->spacy<3.8.0,>=3.7.2->en-core-web-md==3.7.1) (2.0.4)\n",
      "Requirement already satisfied: idna<4,>=2.5 in c:\\users\\perso\\anaconda3\\lib\\site-packages (from requests<3.0.0,>=2.13.0->spacy<3.8.0,>=3.7.2->en-core-web-md==3.7.1) (3.3)\n",
      "Requirement already satisfied: urllib3<1.27,>=1.21.1 in c:\\users\\perso\\anaconda3\\lib\\site-packages (from requests<3.0.0,>=2.13.0->spacy<3.8.0,>=3.7.2->en-core-web-md==3.7.1) (1.26.11)\n",
      "Requirement already satisfied: certifi>=2017.4.17 in c:\\users\\perso\\anaconda3\\lib\\site-packages (from requests<3.0.0,>=2.13.0->spacy<3.8.0,>=3.7.2->en-core-web-md==3.7.1) (2022.9.14)\n",
      "Requirement already satisfied: blis<0.8.0,>=0.7.8 in c:\\users\\perso\\anaconda3\\lib\\site-packages (from thinc<8.3.0,>=8.2.2->spacy<3.8.0,>=3.7.2->en-core-web-md==3.7.1) (0.7.11)\n",
      "Requirement already satisfied: confection<1.0.0,>=0.0.1 in c:\\users\\perso\\anaconda3\\lib\\site-packages (from thinc<8.3.0,>=8.2.2->spacy<3.8.0,>=3.7.2->en-core-web-md==3.7.1) (0.1.4)\n",
      "Requirement already satisfied: colorama in c:\\users\\perso\\anaconda3\\lib\\site-packages (from tqdm<5.0.0,>=4.38.0->spacy<3.8.0,>=3.7.2->en-core-web-md==3.7.1) (0.4.6)\n",
      "Requirement already satisfied: click<9.0.0,>=7.1.1 in c:\\users\\perso\\anaconda3\\lib\\site-packages (from typer<0.10.0,>=0.3.0->spacy<3.8.0,>=3.7.2->en-core-web-md==3.7.1) (8.0.4)\n",
      "Requirement already satisfied: cloudpathlib<0.17.0,>=0.7.0 in c:\\users\\perso\\anaconda3\\lib\\site-packages (from weasel<0.4.0,>=0.1.0->spacy<3.8.0,>=3.7.2->en-core-web-md==3.7.1) (0.16.0)\n",
      "Requirement already satisfied: MarkupSafe>=0.23 in c:\\users\\perso\\anaconda3\\lib\\site-packages (from jinja2->spacy<3.8.0,>=3.7.2->en-core-web-md==3.7.1) (2.0.1)\n",
      "Requirement already satisfied: marisa-trie>=0.7.7 in c:\\users\\perso\\anaconda3\\lib\\site-packages (from language-data>=1.2->langcodes<4.0.0,>=3.2.0->spacy<3.8.0,>=3.7.2->en-core-web-md==3.7.1) (1.1.1)\n",
      "Installing collected packages: en-core-web-md\n",
      "Successfully installed en-core-web-md-3.7.1\n",
      "\u001b[38;5;2m[+] Download and installation successful\u001b[0m\n",
      "You can now load the package via spacy.load('en_core_web_md')\n"
     ]
    }
   ],
   "source": [
    "!python -m spacy download en_core_web_md"
   ]
  },
  {
   "cell_type": "code",
   "execution_count": 257,
   "id": "d977cd86",
   "metadata": {},
   "outputs": [
    {
     "data": {
      "text/plain": [
       "dict_values([['israeli', 'israelis', 'lsrael', 'endisraelsgenocide'], ['palestinian', 'palestinians'], ['gazaunderattack']])"
      ]
     },
     "execution_count": 257,
     "metadata": {},
     "output_type": "execute_result"
    }
   ],
   "source": []
  },
  {
   "cell_type": "code",
   "execution_count": 278,
   "id": "5fa85e2c",
   "metadata": {},
   "outputs": [],
   "source": [
    "words_model = ['israeli','israelis','lsrael','endisraelsgenocide','palestinian','palestinians','gazaunderattack']\n",
    "model_language = {'israel':['israeli','israelis','lsrael','endisraelsgenocide'],\n",
    "                  'palestine':['palestinian','palestinians'],\n",
    "                 'gaza':['gazaunderattack']}\n",
    "def clean_lemma(text):\n",
    "    data = text.split(' ')\n",
    "    n=len(data)\n",
    "    i=0\n",
    "    while i < n:\n",
    "        if len(data[i])<=2:\n",
    "            data.pop(i)\n",
    "            n-=1\n",
    "        elif data[i] in words_model:\n",
    "            for key,value in model_language.items():\n",
    "                if data[i] in value:\n",
    "                    data[i]=key\n",
    "                    i+=1\n",
    "                    break\n",
    "        else:\n",
    "            i+=1\n",
    "    text = ' '.join(data)\n",
    "    return text\n",
    "    "
   ]
  },
  {
   "cell_type": "code",
   "execution_count": 282,
   "id": "8e49f749",
   "metadata": {
    "scrolled": false
   },
   "outputs": [
    {
     "data": {
      "text/plain": [
       "[('israel', 2187),\n",
       " ('gaza', 1906),\n",
       " ('palestine', 1147),\n",
       " ('ukraine', 719),\n",
       " ('hamas', 546),\n",
       " ('kill', 491),\n",
       " ('day', 485),\n",
       " ('people', 418),\n",
       " ('russia', 394),\n",
       " ('say', 364),\n",
       " ('child', 343),\n",
       " ('not', 338),\n",
       " ('one', 324),\n",
       " ('today', 318),\n",
       " ('hostage', 304),\n",
       " ('iran', 285),\n",
       " ('russian', 278),\n",
       " ('war', 275),\n",
       " ('attack', 273),\n",
       " ('family', 265),\n",
       " ('world', 261),\n",
       " ('hospital', 259),\n",
       " ('terrorist', 250),\n",
       " ('force', 249),\n",
       " ('october', 247),\n",
       " ('kyiv', 239),\n",
       " ('genocide', 223),\n",
       " ('break', 221),\n",
       " ('take', 220),\n",
       " ('call', 215),\n",
       " ('home', 213),\n",
       " ('international', 208),\n",
       " ('aid', 198),\n",
       " ('hold', 197),\n",
       " ('woman', 192),\n",
       " ('support', 190),\n",
       " ('ambassador', 184),\n",
       " ('civilian', 179),\n",
       " ('report', 178),\n",
       " ('state', 175),\n",
       " ('must', 171),\n",
       " ('time', 162),\n",
       " ('murder', 161),\n",
       " ('year', 159),\n",
       " ('bomb', 155),\n",
       " ('military', 152),\n",
       " ('president', 152),\n",
       " ('humanitarian', 152),\n",
       " ('right', 151),\n",
       " ('every', 150),\n",
       " ('ceasefire', 150),\n",
       " ('use', 147),\n",
       " ('continue', 145),\n",
       " ('foreign', 145),\n",
       " ('include', 143),\n",
       " ('zionist', 141),\n",
       " ('see', 141),\n",
       " ('video', 141),\n",
       " ('stop', 140),\n",
       " ('last', 139),\n",
       " ('new', 139),\n",
       " ('live', 137),\n",
       " ('iranian', 136),\n",
       " ('minister', 135),\n",
       " ('follow', 133),\n",
       " ('make', 132),\n",
       " ('soldier', 132),\n",
       " ('since', 131),\n",
       " ('strip', 126),\n",
       " ('ukrainian', 126),\n",
       " ('two', 125),\n",
       " ('never', 123),\n",
       " ('city', 121),\n",
       " ('show', 119),\n",
       " ('thank', 119),\n",
       " ('like', 119),\n",
       " ('house', 118),\n",
       " ('life', 118),\n",
       " ('country', 118),\n",
       " ('destroy', 117),\n",
       " ('leave', 116),\n",
       " ('end', 116),\n",
       " ('first', 114),\n",
       " ('night', 112),\n",
       " ('missile', 110),\n",
       " ('crime', 109),\n",
       " ('month', 108),\n",
       " ('ukrainerussiawar', 107),\n",
       " ('jewish', 106),\n",
       " ('strike', 105),\n",
       " ('massacre', 105),\n",
       " ('russiaukrainewar', 105),\n",
       " ('jews', 104),\n",
       " ('come', 104),\n",
       " ('still', 104),\n",
       " ('bring', 104),\n",
       " ('target', 103),\n",
       " ('ministry', 103),\n",
       " ('million', 102),\n",
       " ('good', 102),\n",
       " ('air', 101),\n",
       " ('know', 100),\n",
       " ('get', 100),\n",
       " ('watch', 100),\n",
       " ('army', 97),\n",
       " ('fire', 97),\n",
       " ('occupation', 96),\n",
       " ('food', 93),\n",
       " ('stand', 93),\n",
       " ('want', 92),\n",
       " ('also', 92),\n",
       " ('west', 91),\n",
       " ('member', 91),\n",
       " ('love', 91),\n",
       " ('old', 90),\n",
       " ('man', 90),\n",
       " ('another', 88),\n",
       " ('number', 88),\n",
       " ('bank', 87),\n",
       " ('would', 87),\n",
       " ('', 85),\n",
       " ('idf', 85),\n",
       " ('refugee', 85),\n",
       " ('need', 85),\n",
       " ('help', 84),\n",
       " ('happen', 83),\n",
       " ('thousand', 83),\n",
       " ('work', 83),\n",
       " ('start', 83),\n",
       " ('northern', 82),\n",
       " ('south', 81),\n",
       " ('many', 80),\n",
       " ('security', 80),\n",
       " ('commit', 79),\n",
       " ('release', 79),\n",
       " ('try', 78),\n",
       " ('human', 78),\n",
       " ('shoot', 77),\n",
       " ('meet', 77),\n",
       " ('morning', 77),\n",
       " ('part', 77),\n",
       " ('tell', 77),\n",
       " ('immediate', 77),\n",
       " ('find', 76),\n",
       " ('speak', 76),\n",
       " ('condemn', 76),\n",
       " ('putin', 76),\n",
       " ('government', 76),\n",
       " ('death', 75),\n",
       " ('london', 75),\n",
       " ('medical', 75),\n",
       " ('bombing', 75),\n",
       " ('mark', 74),\n",
       " ('look', 74),\n",
       " ('central', 74),\n",
       " ('baby', 74),\n",
       " ('occupy', 74),\n",
       " ('medium', 73),\n",
       " ('kidnap', 72),\n",
       " ('even', 72),\n",
       " ('way', 72),\n",
       " ('united', 72),\n",
       " ('official', 71),\n",
       " ('news', 71),\n",
       " ('may', 71),\n",
       " ('ukraineunderattack', 71),\n",
       " ('full', 71),\n",
       " ('around', 71),\n",
       " ('send', 70),\n",
       " ('peace', 69),\n",
       " ('truck', 68),\n",
       " ('leader', 68),\n",
       " ('rafah', 68),\n",
       " ('health', 67),\n",
       " ('week', 67),\n",
       " ('entire', 67),\n",
       " ('keep', 67),\n",
       " ('organization', 66),\n",
       " ('journalist', 65),\n",
       " ('north', 65),\n",
       " ('law', 65),\n",
       " ('friend', 65),\n",
       " ('mother', 65),\n",
       " ('hour', 64),\n",
       " ('british', 64),\n",
       " ('claim', 64),\n",
       " ('give', 64),\n",
       " ('well', 64),\n",
       " ('die', 63),\n",
       " ('school', 63),\n",
       " ('can', 63),\n",
       " ('safe', 63),\n",
       " ('hear', 63),\n",
       " ('source', 62),\n",
       " ('weapon', 62),\n",
       " ('statement', 61),\n",
       " ('camp', 61),\n",
       " ('sexual', 61),\n",
       " ('near', 59),\n",
       " ('fight', 59)]"
      ]
     },
     "execution_count": 282,
     "metadata": {},
     "output_type": "execute_result"
    }
   ],
   "source": [
    "texts=''\n",
    "for text in df3['text']:\n",
    "    texts=texts+' '+text\n",
    "test = texts.split(' ')\n",
    "c=Counter(test)\n",
    "c.most_common(200)"
   ]
  },
  {
   "cell_type": "code",
   "execution_count": 240,
   "id": "686a25d2",
   "metadata": {},
   "outputs": [
    {
     "name": "stdout",
     "output_type": "stream",
     "text": [
      "Original Text: The quick brown foxes are jumping over the lazy dogs.\n",
      "Lemmatized Text: the quick brown fox be jump over the lazy dog .\n"
     ]
    }
   ],
   "source": [
    "import spacy\n",
    " \n",
    "# Load the spaCy English model\n",
    "nlp = spacy.load('en_core_web_md')\n",
    " \n",
    "# Define a sample text\n",
    "text = \"The quick brown foxes are jumping over the lazy dogs.\"\n",
    " \n",
    "# Process the text using spaCy\n",
    "doc = nlp(text)\n",
    " \n",
    "# Extract lemmatized tokens\n",
    "lemmatized_tokens = [token.lemma_ for token in doc]\n",
    " \n",
    "# Join the lemmatized tokens into a sentence\n",
    "lemmatized_text = ' '.join(lemmatized_tokens)\n",
    " \n",
    "# Print the original and lemmatized text\n",
    "print(\"Original Text:\", text)\n",
    "print(\"Lemmatized Text:\", lemmatized_text)"
   ]
  },
  {
   "cell_type": "code",
   "execution_count": 241,
   "id": "4d4dc3cc",
   "metadata": {},
   "outputs": [],
   "source": [
    "import spacy\n",
    "\n",
    "nlp = spacy.load('en_core_web_md')\n",
    "\n",
    "def lemmatizing2(text):\n",
    "    # Process the text using spaCy\n",
    "    doc = nlp(text)\n",
    "\n",
    "    # Extract lemmatized tokens\n",
    "    lemmatized_tokens = [token.lemma_ for token in doc]\n",
    "\n",
    "    # Join the lemmatized tokens into a sentence\n",
    "    lemmatized_text = ' '.join(lemmatized_tokens)\n",
    "    return lemmatized_text"
   ]
  },
  {
   "cell_type": "code",
   "execution_count": 110,
   "id": "232c5349",
   "metadata": {},
   "outputs": [
    {
     "name": "stdout",
     "output_type": "stream",
     "text": [
      "Requirement already satisfied: textblob in c:\\users\\perso\\anaconda3\\lib\\site-packages (0.18.0.post0)\n",
      "Requirement already satisfied: nltk>=3.8 in c:\\users\\perso\\anaconda3\\lib\\site-packages (from textblob) (3.8.1)\n",
      "Requirement already satisfied: regex>=2021.8.3 in c:\\users\\perso\\anaconda3\\lib\\site-packages (from nltk>=3.8->textblob) (2022.7.9)\n",
      "Requirement already satisfied: click in c:\\users\\perso\\anaconda3\\lib\\site-packages (from nltk>=3.8->textblob) (8.0.4)\n",
      "Requirement already satisfied: joblib in c:\\users\\perso\\anaconda3\\lib\\site-packages (from nltk>=3.8->textblob) (1.1.0)\n",
      "Requirement already satisfied: tqdm in c:\\users\\perso\\anaconda3\\lib\\site-packages (from nltk>=3.8->textblob) (4.64.1)\n",
      "Requirement already satisfied: colorama in c:\\users\\perso\\anaconda3\\lib\\site-packages (from click->nltk>=3.8->textblob) (0.4.5)\n"
     ]
    }
   ],
   "source": [
    "!pip install textblob"
   ]
  },
  {
   "cell_type": "code",
   "execution_count": 111,
   "id": "e9643ff6",
   "metadata": {},
   "outputs": [],
   "source": [
    "from textblob import TextBlob"
   ]
  },
  {
   "cell_type": "code",
   "execution_count": 112,
   "id": "da078d68",
   "metadata": {},
   "outputs": [],
   "source": [
    "def polarity(text):\n",
    "    return TextBlob(text).sentiment.polarity"
   ]
  },
  {
   "cell_type": "code",
   "execution_count": 113,
   "id": "6006c124",
   "metadata": {},
   "outputs": [],
   "source": [
    "df3['sentiment_polarity']=df3['text'].apply(polarity)"
   ]
  },
  {
   "cell_type": "code",
   "execution_count": 114,
   "id": "86134513",
   "metadata": {},
   "outputs": [],
   "source": [
    "def sentiment(label):\n",
    "    if label <0:\n",
    "        return \"Negative\"\n",
    "    elif label ==0:\n",
    "        return \"Neutral\"\n",
    "    elif label>0:\n",
    "        return \"Positive\""
   ]
  },
  {
   "cell_type": "code",
   "execution_count": 115,
   "id": "01136c19",
   "metadata": {},
   "outputs": [],
   "source": [
    "df3['sentiment']=df3['sentiment_polarity'].apply(sentiment)"
   ]
  },
  {
   "cell_type": "code",
   "execution_count": 126,
   "id": "09069653",
   "metadata": {},
   "outputs": [
    {
     "name": "stdout",
     "output_type": "stream",
     "text": [
      "<class 'pandas.core.frame.DataFrame'>\n",
      "RangeIndex: 4775 entries, 0 to 4774\n",
      "Data columns (total 11 columns):\n",
      " #   Column              Non-Null Count  Dtype  \n",
      "---  ------              --------------  -----  \n",
      " 0   profile_id          4775 non-null   int64  \n",
      " 1   comments            4775 non-null   int64  \n",
      " 2   likes               4775 non-null   int64  \n",
      " 3   quotes              4775 non-null   int64  \n",
      " 4   retweets            4775 non-null   int64  \n",
      " 5   year                4775 non-null   int64  \n",
      " 6   month               4775 non-null   int64  \n",
      " 7   day                 4775 non-null   int64  \n",
      " 8   text                4775 non-null   object \n",
      " 9   sentiment_polarity  4775 non-null   float64\n",
      " 10  sentiment           4775 non-null   object \n",
      "dtypes: float64(1), int64(8), object(2)\n",
      "memory usage: 410.5+ KB\n"
     ]
    }
   ],
   "source": [
    "df3.info()"
   ]
  },
  {
   "cell_type": "code",
   "execution_count": 117,
   "id": "e46a09e8",
   "metadata": {},
   "outputs": [],
   "source": [
    "df3.to_csv('Palestine-Israel_tweet6.csv')"
   ]
  },
  {
   "cell_type": "code",
   "execution_count": 81,
   "id": "57be62d5",
   "metadata": {},
   "outputs": [
    {
     "data": {
      "text/plain": [
       "<AxesSubplot:xlabel='sentiment', ylabel='count'>"
      ]
     },
     "execution_count": 81,
     "metadata": {},
     "output_type": "execute_result"
    },
    {
     "data": {
      "image/png": "[encoded data removed]",
      "text/plain": [
       "<Figure size 700x500 with 1 Axes>"
      ]
     },
     "metadata": {},
     "output_type": "display_data"
    }
   ],
   "source": [
    "fig = plt.figure(figsize=(7,5))\n",
    "sns.countplot(x=\"sentiment\",data=df3)"
   ]
  },
  {
   "cell_type": "code",
   "execution_count": null,
   "id": "a667ce68",
   "metadata": {},
   "outputs": [],
   "source": []
  },
  {
   "cell_type": "code",
   "execution_count": 273,
   "id": "c7d0a3c1",
   "metadata": {},
   "outputs": [
    {
     "data": {
      "text/plain": [
       "0"
      ]
     },
     "execution_count": 273,
     "metadata": {},
     "output_type": "execute_result"
    }
   ],
   "source": [
    "len('')"
   ]
  },
  {
   "cell_type": "code",
   "execution_count": 216,
   "id": "d79e1a38",
   "metadata": {},
   "outputs": [],
   "source": []
  },
  {
   "cell_type": "code",
   "execution_count": 217,
   "id": "38a82714",
   "metadata": {},
   "outputs": [
    {
     "data": {
      "text/html": [
       "<div>\n",
       "<style scoped>\n",
       "    .dataframe tbody tr th:only-of-type {\n",
       "        vertical-align: middle;\n",
       "    }\n",
       "\n",
       "    .dataframe tbody tr th {\n",
       "        vertical-align: top;\n",
       "    }\n",
       "\n",
       "    .dataframe thead th {\n",
       "        text-align: right;\n",
       "    }\n",
       "</style>\n",
       "<table border=\"1\" class=\"dataframe\">\n",
       "  <thead>\n",
       "    <tr style=\"text-align: right;\">\n",
       "      <th></th>\n",
       "      <th>test</th>\n",
       "    </tr>\n",
       "  </thead>\n",
       "  <tbody>\n",
       "    <tr>\n",
       "      <th>0</th>\n",
       "      <td>1</td>\n",
       "    </tr>\n",
       "  </tbody>\n",
       "</table>\n",
       "</div>"
      ],
      "text/plain": [
       "   test\n",
       "0     1"
      ]
     },
     "execution_count": 217,
     "metadata": {},
     "output_type": "execute_result"
    }
   ],
   "source": []
  },
  {
   "cell_type": "code",
   "execution_count": null,
   "id": "8b43390a",
   "metadata": {},
   "outputs": [],
   "source": []
  },
  {
   "cell_type": "code",
   "execution_count": 281,
   "id": "203d4bc7",
   "metadata": {},
   "outputs": [
    {
     "data": {
      "text/plain": [
       "8374"
      ]
     },
     "execution_count": 281,
     "metadata": {},
     "output_type": "execute_result"
    }
   ],
   "source": [
    "count = CountVectorizer(stop_words = 'english')\n",
    "\n",
    "count_train = count.fit_transform(df3['text'].values)\n",
    "\n",
    "len(list(count.get_feature_names_out()))"
   ]
  },
  {
   "cell_type": "code",
   "execution_count": 79,
   "id": "d4da5904",
   "metadata": {},
   "outputs": [
    {
     "data": {
      "text/plain": [
       "array([[0, 0, 0, ..., 0, 0, 0],\n",
       "       [0, 0, 0, ..., 0, 0, 0],\n",
       "       [0, 0, 0, ..., 0, 0, 0],\n",
       "       ...,\n",
       "       [0, 0, 0, ..., 0, 0, 0],\n",
       "       [0, 0, 0, ..., 0, 0, 0],\n",
       "       [0, 0, 0, ..., 0, 0, 0]], dtype=int64)"
      ]
     },
     "execution_count": 79,
     "metadata": {},
     "output_type": "execute_result"
    }
   ],
   "source": [
    "count_train.toarray()"
   ]
  },
  {
   "cell_type": "code",
   "execution_count": 26,
   "id": "7ef5c8f1",
   "metadata": {},
   "outputs": [
    {
     "data": {
      "text/plain": [
       "'want shani louk remembered never forget shani may memory blessing'"
      ]
     },
     "execution_count": 26,
     "metadata": {},
     "output_type": "execute_result"
    }
   ],
   "source": [
    "df3['text'][2500] #Cleaned text data_tweet"
   ]
  },
  {
   "cell_type": "code",
   "execution_count": 140,
   "id": "b9e5a82b",
   "metadata": {},
   "outputs": [
    {
     "data": {
      "text/plain": [
       "'behindthescen'"
      ]
     },
     "execution_count": 140,
     "metadata": {},
     "output_type": "execute_result"
    }
   ],
   "source": [
    "stemming(\"behindthescenes\")"
   ]
  },
  {
   "cell_type": "code",
   "execution_count": 185,
   "id": "85546f9a",
   "metadata": {},
   "outputs": [
    {
     "name": "stdout",
     "output_type": "stream",
     "text": [
      "rocks : walked\n"
     ]
    }
   ],
   "source": [
    "print(\"rocks :\", lemmatizer.lemmatize(\"walked\"))"
   ]
  },
  {
   "cell_type": "code",
   "execution_count": null,
   "id": "a37f35c0",
   "metadata": {},
   "outputs": [],
   "source": []
  }
 ],
 "metadata": {
  "kernelspec": {
   "display_name": "Python 3 (ipykernel)",
   "language": "python",
   "name": "python3"
  },
  "language_info": {
   "codemirror_mode": {
    "name": "ipython",
    "version": 3
   },
   "file_extension": ".py",
   "mimetype": "text/x-python",
   "name": "python",
   "nbconvert_exporter": "python",
   "pygments_lexer": "ipython3",
   "version": "3.9.13"
  }
 },
 "nbformat": 4,
 "nbformat_minor": 5
}
